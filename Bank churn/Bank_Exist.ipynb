{
 "cells": [
  {
   "cell_type": "markdown",
   "metadata": {
    "id": "lP6JLo1tGNBg"
   },
   "source": [
    "# Artificial Neural Network"
   ]
  },
  {
   "cell_type": "markdown",
   "metadata": {
    "id": "gWZyYmS_UE_L"
   },
   "source": [
    "### Importing the libraries"
   ]
  },
  {
   "cell_type": "code",
   "execution_count": 1,
   "metadata": {
    "id": "TGYGqPMijSiQ"
   },
   "outputs": [],
   "source": [
    "import numpy as np\n",
    "import pandas as pd\n",
    "import tensorflow as tf"
   ]
  },
  {
   "cell_type": "code",
   "execution_count": 2,
   "metadata": {
    "colab": {
     "base_uri": "https://localhost:8080/",
     "height": 35
    },
    "id": "i-75bDlojtpQ",
    "outputId": "7621b82e-770f-4f1b-e1aa-953232ff5110"
   },
   "outputs": [
    {
     "data": {
      "application/vnd.google.colaboratory.intrinsic+json": {
       "type": "string"
      },
      "text/plain": [
       "'2.3.0'"
      ]
     },
     "execution_count": 2,
     "metadata": {
      "tags": []
     },
     "output_type": "execute_result"
    }
   ],
   "source": [
    "tf.__version__"
   ]
  },
  {
   "cell_type": "markdown",
   "metadata": {
    "id": "1E0Q3aoKUCRX"
   },
   "source": [
    "## Part 1 - Data Preprocessing"
   ]
  },
  {
   "cell_type": "markdown",
   "metadata": {
    "id": "cKWAkFVGUU0Z"
   },
   "source": [
    "### Importing the dataset"
   ]
  },
  {
   "cell_type": "code",
   "execution_count": 3,
   "metadata": {
    "id": "KoFTp98GkM-L"
   },
   "outputs": [],
   "source": [
    "dataset = pd.read_csv('Churn_Modelling.csv')\n",
    "X = dataset.iloc[:, 3:-1].values\n",
    "y = dataset.iloc[:, -1].values"
   ]
  },
  {
   "cell_type": "code",
   "execution_count": 4,
   "metadata": {
    "colab": {
     "base_uri": "https://localhost:8080/",
     "height": 134
    },
    "id": "KVMfQZCelcFZ",
    "outputId": "c41ddd73-2e6b-4675-f8a8-db495741b21d"
   },
   "outputs": [
    {
     "name": "stdout",
     "output_type": "stream",
     "text": [
      "[[619 'France' 'Female' ... 1 1 101348.88]\n",
      " [608 'Spain' 'Female' ... 0 1 112542.58]\n",
      " [502 'France' 'Female' ... 1 0 113931.57]\n",
      " ...\n",
      " [709 'France' 'Female' ... 0 1 42085.58]\n",
      " [772 'Germany' 'Male' ... 1 0 92888.52]\n",
      " [792 'France' 'Female' ... 1 0 38190.78]]\n"
     ]
    }
   ],
   "source": [
    "print(X)"
   ]
  },
  {
   "cell_type": "code",
   "execution_count": 5,
   "metadata": {
    "colab": {
     "base_uri": "https://localhost:8080/",
     "height": 34
    },
    "id": "syyzwPGGldo8",
    "outputId": "bf363e70-4ecd-4652-d17c-91afc9bc1cc5"
   },
   "outputs": [
    {
     "name": "stdout",
     "output_type": "stream",
     "text": [
      "[1 0 1 ... 1 1 0]\n"
     ]
    }
   ],
   "source": [
    "print(y)"
   ]
  },
  {
   "cell_type": "markdown",
   "metadata": {
    "id": "N6bQ0UgSU-NJ"
   },
   "source": [
    "### Encoding categorical data"
   ]
  },
  {
   "cell_type": "markdown",
   "metadata": {
    "id": "le5MJreAbW52"
   },
   "source": [
    "Label Encoding the \"Gender\" column"
   ]
  },
  {
   "cell_type": "code",
   "execution_count": 6,
   "metadata": {
    "id": "RTJhWZbpk605"
   },
   "outputs": [],
   "source": [
    "from sklearn.preprocessing import LabelEncoder\n",
    "le = LabelEncoder()\n",
    "X[:,2] = le.fit_transform(X[:,2])"
   ]
  },
  {
   "cell_type": "code",
   "execution_count": 7,
   "metadata": {
    "colab": {
     "base_uri": "https://localhost:8080/",
     "height": 134
    },
    "id": "DTZ9NLXglJWS",
    "outputId": "533a7633-981a-4ae6-b48a-a159edd8ece3"
   },
   "outputs": [
    {
     "name": "stdout",
     "output_type": "stream",
     "text": [
      "[[619 'France' 0 ... 1 1 101348.88]\n",
      " [608 'Spain' 0 ... 0 1 112542.58]\n",
      " [502 'France' 0 ... 1 0 113931.57]\n",
      " ...\n",
      " [709 'France' 0 ... 0 1 42085.58]\n",
      " [772 'Germany' 1 ... 1 0 92888.52]\n",
      " [792 'France' 0 ... 1 0 38190.78]]\n"
     ]
    }
   ],
   "source": [
    "print(X)"
   ]
  },
  {
   "cell_type": "markdown",
   "metadata": {
    "id": "CUxGZezpbMcb"
   },
   "source": [
    "One Hot Encoding the \"Geography\" column"
   ]
  },
  {
   "cell_type": "code",
   "execution_count": 8,
   "metadata": {
    "id": "D4FpT6ZRlpE_"
   },
   "outputs": [],
   "source": [
    "from sklearn.compose import ColumnTransformer\n",
    "from sklearn.preprocessing import OneHotEncoder\n",
    "ct = ColumnTransformer(transformers=[('encoder', OneHotEncoder(), [1])], remainder='passthrough')\n",
    "X = np.array(ct.fit_transform(X))"
   ]
  },
  {
   "cell_type": "code",
   "execution_count": 9,
   "metadata": {
    "colab": {
     "base_uri": "https://localhost:8080/",
     "height": 134
    },
    "id": "UsQ5OHxgmDiM",
    "outputId": "6a9b3199-6a15-4120-af9c-1849c6348fa8"
   },
   "outputs": [
    {
     "name": "stdout",
     "output_type": "stream",
     "text": [
      "[[1.0 0.0 0.0 ... 1 1 101348.88]\n",
      " [0.0 0.0 1.0 ... 0 1 112542.58]\n",
      " [1.0 0.0 0.0 ... 1 0 113931.57]\n",
      " ...\n",
      " [1.0 0.0 0.0 ... 0 1 42085.58]\n",
      " [0.0 1.0 0.0 ... 1 0 92888.52]\n",
      " [1.0 0.0 0.0 ... 1 0 38190.78]]\n"
     ]
    }
   ],
   "source": [
    "print(X)"
   ]
  },
  {
   "cell_type": "markdown",
   "metadata": {
    "id": "vHol938cW8zd"
   },
   "source": [
    "### Splitting the dataset into the Training set and Test set"
   ]
  },
  {
   "cell_type": "code",
   "execution_count": 10,
   "metadata": {
    "id": "CoMCKhi-m0JS"
   },
   "outputs": [],
   "source": [
    "from sklearn.model_selection import train_test_split\n",
    "X_train, X_test, y_train, y_test = train_test_split(X, y, random_state = 0, test_size=0.2)"
   ]
  },
  {
   "cell_type": "markdown",
   "metadata": {
    "id": "RE_FcHyfV3TQ"
   },
   "source": [
    "### Feature Scaling"
   ]
  },
  {
   "cell_type": "code",
   "execution_count": 11,
   "metadata": {
    "id": "_vUNIP68nqVZ"
   },
   "outputs": [],
   "source": [
    "from sklearn.preprocessing import StandardScaler\n",
    "sc = StandardScaler()\n",
    "X_train = sc.fit_transform(X_train)\n",
    "X_test = sc.transform(X_test)"
   ]
  },
  {
   "cell_type": "code",
   "execution_count": 13,
   "metadata": {
    "colab": {
     "base_uri": "https://localhost:8080/",
     "height": 235
    },
    "id": "IIYj0f_bnygQ",
    "outputId": "ab17960f-1ef0-49ef-8def-d47072d600b9"
   },
   "outputs": [
    {
     "name": "stdout",
     "output_type": "stream",
     "text": [
      "[[-1.01460667 -0.5698444   1.74309049 ...  0.64259497 -1.03227043\n",
      "   1.10643166]\n",
      " [-1.01460667  1.75486502 -0.57369368 ...  0.64259497  0.9687384\n",
      "  -0.74866447]\n",
      " [ 0.98560362 -0.5698444  -0.57369368 ...  0.64259497 -1.03227043\n",
      "   1.48533467]\n",
      " ...\n",
      " [ 0.98560362 -0.5698444  -0.57369368 ...  0.64259497 -1.03227043\n",
      "   1.41231994]\n",
      " [-1.01460667 -0.5698444   1.74309049 ...  0.64259497  0.9687384\n",
      "   0.84432121]\n",
      " [-1.01460667  1.75486502 -0.57369368 ...  0.64259497 -1.03227043\n",
      "   0.32472465]]\n"
     ]
    }
   ],
   "source": [
    "print(X_train)"
   ]
  },
  {
   "cell_type": "markdown",
   "metadata": {
    "id": "-zfEzkRVXIwF"
   },
   "source": [
    "## Part 2 - Building the ANN"
   ]
  },
  {
   "cell_type": "markdown",
   "metadata": {
    "id": "KvdeScabXtlB"
   },
   "source": [
    "### Initializing the ANN"
   ]
  },
  {
   "cell_type": "code",
   "execution_count": 14,
   "metadata": {
    "id": "dYDH0hqToLEX"
   },
   "outputs": [],
   "source": [
    "ann = tf.keras.models.Sequential()"
   ]
  },
  {
   "cell_type": "markdown",
   "metadata": {
    "id": "rP6urV6SX7kS"
   },
   "source": [
    "### Adding the input layer and the first hidden layer"
   ]
  },
  {
   "cell_type": "code",
   "execution_count": 15,
   "metadata": {
    "id": "Rg91a4yJqhXQ"
   },
   "outputs": [],
   "source": [
    "ann.add(tf.keras.layers.Dense(units=6, activation='relu'))"
   ]
  },
  {
   "cell_type": "markdown",
   "metadata": {
    "id": "BELWAc_8YJze"
   },
   "source": [
    "### Adding the second hidden layer"
   ]
  },
  {
   "cell_type": "code",
   "execution_count": 16,
   "metadata": {
    "id": "cD0oYZERsIXx"
   },
   "outputs": [],
   "source": [
    "ann.add(tf.keras.layers.Dense(units=6, activation='relu'))"
   ]
  },
  {
   "cell_type": "markdown",
   "metadata": {
    "id": "OyNEe6RXYcU4"
   },
   "source": [
    "### Adding the output layer"
   ]
  },
  {
   "cell_type": "code",
   "execution_count": 17,
   "metadata": {
    "id": "Plzca6smsaYF"
   },
   "outputs": [],
   "source": [
    "ann.add(tf.keras.layers.Dense(units=1, activation='sigmoid'))"
   ]
  },
  {
   "cell_type": "markdown",
   "metadata": {
    "id": "JT4u2S1_Y4WG"
   },
   "source": [
    "## Part 3 - Training the ANN"
   ]
  },
  {
   "cell_type": "markdown",
   "metadata": {
    "id": "8GWlJChhY_ZI"
   },
   "source": [
    "### Compiling the ANN"
   ]
  },
  {
   "cell_type": "code",
   "execution_count": 18,
   "metadata": {
    "id": "Dv78aqnuuGI3"
   },
   "outputs": [],
   "source": [
    "ann.compile(optimizer = 'adam', loss = 'binary_crossentropy', metrics = ['accuracy'])"
   ]
  },
  {
   "cell_type": "markdown",
   "metadata": {
    "id": "0QR_G5u7ZLSM"
   },
   "source": [
    "### Training the ANN on the Training set"
   ]
  },
  {
   "cell_type": "code",
   "execution_count": 19,
   "metadata": {
    "colab": {
     "base_uri": "https://localhost:8080/",
     "height": 1000
    },
    "id": "eHozg0Yswj4N",
    "outputId": "82b15640-22fe-400a-df2c-ac9dfe447d16"
   },
   "outputs": [
    {
     "name": "stdout",
     "output_type": "stream",
     "text": [
      "Epoch 1/100\n",
      "250/250 [==============================] - 0s 853us/step - loss: 0.5424 - accuracy: 0.7956\n",
      "Epoch 2/100\n",
      "250/250 [==============================] - 0s 831us/step - loss: 0.4797 - accuracy: 0.7960\n",
      "Epoch 3/100\n",
      "250/250 [==============================] - 0s 818us/step - loss: 0.4535 - accuracy: 0.7960\n",
      "Epoch 4/100\n",
      "250/250 [==============================] - 0s 800us/step - loss: 0.4368 - accuracy: 0.7960\n",
      "Epoch 5/100\n",
      "250/250 [==============================] - 0s 760us/step - loss: 0.4268 - accuracy: 0.7960\n",
      "Epoch 6/100\n",
      "250/250 [==============================] - 0s 831us/step - loss: 0.4202 - accuracy: 0.7960\n",
      "Epoch 7/100\n",
      "250/250 [==============================] - 0s 812us/step - loss: 0.4155 - accuracy: 0.8067\n",
      "Epoch 8/100\n",
      "250/250 [==============================] - 0s 802us/step - loss: 0.4111 - accuracy: 0.8224\n",
      "Epoch 9/100\n",
      "250/250 [==============================] - 0s 827us/step - loss: 0.4073 - accuracy: 0.8240\n",
      "Epoch 10/100\n",
      "250/250 [==============================] - 0s 800us/step - loss: 0.4032 - accuracy: 0.8244\n",
      "Epoch 11/100\n",
      "250/250 [==============================] - 0s 791us/step - loss: 0.3998 - accuracy: 0.8256\n",
      "Epoch 12/100\n",
      "250/250 [==============================] - 0s 851us/step - loss: 0.3959 - accuracy: 0.8282\n",
      "Epoch 13/100\n",
      "250/250 [==============================] - 0s 887us/step - loss: 0.3924 - accuracy: 0.8301\n",
      "Epoch 14/100\n",
      "250/250 [==============================] - 0s 850us/step - loss: 0.3887 - accuracy: 0.8299\n",
      "Epoch 15/100\n",
      "250/250 [==============================] - 0s 791us/step - loss: 0.3854 - accuracy: 0.8286\n",
      "Epoch 16/100\n",
      "250/250 [==============================] - 0s 778us/step - loss: 0.3821 - accuracy: 0.8340\n",
      "Epoch 17/100\n",
      "250/250 [==============================] - 0s 800us/step - loss: 0.3790 - accuracy: 0.8416\n",
      "Epoch 18/100\n",
      "250/250 [==============================] - 0s 787us/step - loss: 0.3761 - accuracy: 0.8439\n",
      "Epoch 19/100\n",
      "250/250 [==============================] - 0s 848us/step - loss: 0.3735 - accuracy: 0.8475\n",
      "Epoch 20/100\n",
      "250/250 [==============================] - 0s 787us/step - loss: 0.3703 - accuracy: 0.8479\n",
      "Epoch 21/100\n",
      "250/250 [==============================] - 0s 794us/step - loss: 0.3677 - accuracy: 0.8505\n",
      "Epoch 22/100\n",
      "250/250 [==============================] - 0s 804us/step - loss: 0.3652 - accuracy: 0.8495\n",
      "Epoch 23/100\n",
      "250/250 [==============================] - 0s 772us/step - loss: 0.3630 - accuracy: 0.8505\n",
      "Epoch 24/100\n",
      "250/250 [==============================] - 0s 800us/step - loss: 0.3611 - accuracy: 0.8514\n",
      "Epoch 25/100\n",
      "250/250 [==============================] - 0s 765us/step - loss: 0.3587 - accuracy: 0.8536\n",
      "Epoch 26/100\n",
      "250/250 [==============================] - 0s 825us/step - loss: 0.3571 - accuracy: 0.8550\n",
      "Epoch 27/100\n",
      "250/250 [==============================] - 0s 783us/step - loss: 0.3556 - accuracy: 0.8551\n",
      "Epoch 28/100\n",
      "250/250 [==============================] - 0s 775us/step - loss: 0.3539 - accuracy: 0.8546\n",
      "Epoch 29/100\n",
      "250/250 [==============================] - 0s 779us/step - loss: 0.3523 - accuracy: 0.8564\n",
      "Epoch 30/100\n",
      "250/250 [==============================] - 0s 848us/step - loss: 0.3509 - accuracy: 0.8591\n",
      "Epoch 31/100\n",
      "250/250 [==============================] - 0s 878us/step - loss: 0.3496 - accuracy: 0.8580\n",
      "Epoch 32/100\n",
      "250/250 [==============================] - 0s 890us/step - loss: 0.3482 - accuracy: 0.8584\n",
      "Epoch 33/100\n",
      "250/250 [==============================] - 0s 911us/step - loss: 0.3470 - accuracy: 0.8594\n",
      "Epoch 34/100\n",
      "250/250 [==============================] - 0s 799us/step - loss: 0.3461 - accuracy: 0.8586\n",
      "Epoch 35/100\n",
      "250/250 [==============================] - 0s 885us/step - loss: 0.3451 - accuracy: 0.8572\n",
      "Epoch 36/100\n",
      "250/250 [==============================] - 0s 930us/step - loss: 0.3447 - accuracy: 0.8581\n",
      "Epoch 37/100\n",
      "250/250 [==============================] - 0s 908us/step - loss: 0.3441 - accuracy: 0.8591\n",
      "Epoch 38/100\n",
      "250/250 [==============================] - 0s 832us/step - loss: 0.3435 - accuracy: 0.8590\n",
      "Epoch 39/100\n",
      "250/250 [==============================] - 0s 768us/step - loss: 0.3435 - accuracy: 0.8584\n",
      "Epoch 40/100\n",
      "250/250 [==============================] - 0s 866us/step - loss: 0.3426 - accuracy: 0.8596\n",
      "Epoch 41/100\n",
      "250/250 [==============================] - 0s 757us/step - loss: 0.3427 - accuracy: 0.8615\n",
      "Epoch 42/100\n",
      "250/250 [==============================] - 0s 760us/step - loss: 0.3417 - accuracy: 0.8606\n",
      "Epoch 43/100\n",
      "250/250 [==============================] - 0s 846us/step - loss: 0.3418 - accuracy: 0.8594\n",
      "Epoch 44/100\n",
      "250/250 [==============================] - 0s 780us/step - loss: 0.3414 - accuracy: 0.8593\n",
      "Epoch 45/100\n",
      "250/250 [==============================] - 0s 840us/step - loss: 0.3411 - accuracy: 0.8596\n",
      "Epoch 46/100\n",
      "250/250 [==============================] - 0s 808us/step - loss: 0.3414 - accuracy: 0.8601\n",
      "Epoch 47/100\n",
      "250/250 [==============================] - 0s 791us/step - loss: 0.3407 - accuracy: 0.8597\n",
      "Epoch 48/100\n",
      "250/250 [==============================] - 0s 900us/step - loss: 0.3410 - accuracy: 0.8593\n",
      "Epoch 49/100\n",
      "250/250 [==============================] - 0s 847us/step - loss: 0.3408 - accuracy: 0.8612\n",
      "Epoch 50/100\n",
      "250/250 [==============================] - 0s 823us/step - loss: 0.3406 - accuracy: 0.8596\n",
      "Epoch 51/100\n",
      "250/250 [==============================] - 0s 782us/step - loss: 0.3404 - accuracy: 0.8610\n",
      "Epoch 52/100\n",
      "250/250 [==============================] - 0s 793us/step - loss: 0.3400 - accuracy: 0.8612\n",
      "Epoch 53/100\n",
      "250/250 [==============================] - 0s 788us/step - loss: 0.3401 - accuracy: 0.8612\n",
      "Epoch 54/100\n",
      "250/250 [==============================] - 0s 805us/step - loss: 0.3402 - accuracy: 0.8602\n",
      "Epoch 55/100\n",
      "250/250 [==============================] - 0s 984us/step - loss: 0.3399 - accuracy: 0.8616\n",
      "Epoch 56/100\n",
      "250/250 [==============================] - 0s 799us/step - loss: 0.3392 - accuracy: 0.8612\n",
      "Epoch 57/100\n",
      "250/250 [==============================] - 0s 821us/step - loss: 0.3401 - accuracy: 0.8614\n",
      "Epoch 58/100\n",
      "250/250 [==============================] - 0s 869us/step - loss: 0.3395 - accuracy: 0.8624\n",
      "Epoch 59/100\n",
      "250/250 [==============================] - 0s 799us/step - loss: 0.3391 - accuracy: 0.8610\n",
      "Epoch 60/100\n",
      "250/250 [==============================] - 0s 855us/step - loss: 0.3396 - accuracy: 0.8609\n",
      "Epoch 61/100\n",
      "250/250 [==============================] - 0s 784us/step - loss: 0.3396 - accuracy: 0.8624\n",
      "Epoch 62/100\n",
      "250/250 [==============================] - 0s 802us/step - loss: 0.3393 - accuracy: 0.8586\n",
      "Epoch 63/100\n",
      "250/250 [==============================] - 0s 926us/step - loss: 0.3393 - accuracy: 0.8616\n",
      "Epoch 64/100\n",
      "250/250 [==============================] - 0s 940us/step - loss: 0.3398 - accuracy: 0.8604\n",
      "Epoch 65/100\n",
      "250/250 [==============================] - 0s 956us/step - loss: 0.3392 - accuracy: 0.8609\n",
      "Epoch 66/100\n",
      "250/250 [==============================] - 0s 896us/step - loss: 0.3388 - accuracy: 0.8605\n",
      "Epoch 67/100\n",
      "250/250 [==============================] - 0s 862us/step - loss: 0.3388 - accuracy: 0.8614\n",
      "Epoch 68/100\n",
      "250/250 [==============================] - 0s 797us/step - loss: 0.3392 - accuracy: 0.8616\n",
      "Epoch 69/100\n",
      "250/250 [==============================] - 0s 803us/step - loss: 0.3387 - accuracy: 0.8595\n",
      "Epoch 70/100\n",
      "250/250 [==============================] - 0s 787us/step - loss: 0.3389 - accuracy: 0.8627\n",
      "Epoch 71/100\n",
      "250/250 [==============================] - 0s 816us/step - loss: 0.3387 - accuracy: 0.8602\n",
      "Epoch 72/100\n",
      "250/250 [==============================] - 0s 827us/step - loss: 0.3387 - accuracy: 0.8606\n",
      "Epoch 73/100\n",
      "250/250 [==============================] - 0s 834us/step - loss: 0.3388 - accuracy: 0.8621\n",
      "Epoch 74/100\n",
      "250/250 [==============================] - 0s 884us/step - loss: 0.3391 - accuracy: 0.8608\n",
      "Epoch 75/100\n",
      "250/250 [==============================] - 0s 781us/step - loss: 0.3385 - accuracy: 0.8615\n",
      "Epoch 76/100\n",
      "250/250 [==============================] - 0s 764us/step - loss: 0.3383 - accuracy: 0.8606\n",
      "Epoch 77/100\n",
      "250/250 [==============================] - 0s 869us/step - loss: 0.3383 - accuracy: 0.8602\n",
      "Epoch 78/100\n",
      "250/250 [==============================] - 0s 925us/step - loss: 0.3383 - accuracy: 0.8631\n",
      "Epoch 79/100\n",
      "250/250 [==============================] - 0s 926us/step - loss: 0.3383 - accuracy: 0.8614\n",
      "Epoch 80/100\n",
      "250/250 [==============================] - 0s 873us/step - loss: 0.3382 - accuracy: 0.8630\n",
      "Epoch 81/100\n",
      "250/250 [==============================] - 0s 834us/step - loss: 0.3377 - accuracy: 0.8629\n",
      "Epoch 82/100\n",
      "250/250 [==============================] - 0s 768us/step - loss: 0.3381 - accuracy: 0.8621\n",
      "Epoch 83/100\n",
      "250/250 [==============================] - 0s 830us/step - loss: 0.3382 - accuracy: 0.8609\n",
      "Epoch 84/100\n",
      "250/250 [==============================] - 0s 772us/step - loss: 0.3378 - accuracy: 0.8611\n",
      "Epoch 85/100\n",
      "250/250 [==============================] - 0s 848us/step - loss: 0.3378 - accuracy: 0.8609\n",
      "Epoch 86/100\n",
      "250/250 [==============================] - 0s 890us/step - loss: 0.3379 - accuracy: 0.8616\n",
      "Epoch 87/100\n",
      "250/250 [==============================] - 0s 798us/step - loss: 0.3377 - accuracy: 0.8594\n",
      "Epoch 88/100\n",
      "250/250 [==============================] - 0s 824us/step - loss: 0.3378 - accuracy: 0.8624\n",
      "Epoch 89/100\n",
      "250/250 [==============================] - 0s 879us/step - loss: 0.3374 - accuracy: 0.8605\n",
      "Epoch 90/100\n",
      "250/250 [==============================] - 0s 840us/step - loss: 0.3371 - accuracy: 0.8619\n",
      "Epoch 91/100\n",
      "250/250 [==============================] - 0s 851us/step - loss: 0.3377 - accuracy: 0.8608\n",
      "Epoch 92/100\n",
      "250/250 [==============================] - 0s 867us/step - loss: 0.3371 - accuracy: 0.8599\n",
      "Epoch 93/100\n",
      "250/250 [==============================] - 0s 857us/step - loss: 0.3373 - accuracy: 0.8610\n",
      "Epoch 94/100\n",
      "250/250 [==============================] - 0s 809us/step - loss: 0.3377 - accuracy: 0.8602\n",
      "Epoch 95/100\n",
      "250/250 [==============================] - 0s 845us/step - loss: 0.3372 - accuracy: 0.8610\n",
      "Epoch 96/100\n",
      "250/250 [==============================] - 0s 784us/step - loss: 0.3369 - accuracy: 0.8609\n",
      "Epoch 97/100\n",
      "250/250 [==============================] - 0s 866us/step - loss: 0.3373 - accuracy: 0.8622\n",
      "Epoch 98/100\n",
      "250/250 [==============================] - 0s 789us/step - loss: 0.3376 - accuracy: 0.8620\n",
      "Epoch 99/100\n",
      "250/250 [==============================] - 0s 782us/step - loss: 0.3369 - accuracy: 0.8610\n",
      "Epoch 100/100\n",
      "250/250 [==============================] - 0s 870us/step - loss: 0.3368 - accuracy: 0.8606\n"
     ]
    },
    {
     "data": {
      "text/plain": [
       "<tensorflow.python.keras.callbacks.History at 0x7f8b0c021208>"
      ]
     },
     "execution_count": 19,
     "metadata": {
      "tags": []
     },
     "output_type": "execute_result"
    }
   ],
   "source": [
    "ann.fit(X_train, y_train, batch_size = 32, epochs = 100)"
   ]
  },
  {
   "cell_type": "markdown",
   "metadata": {
    "id": "tJj5k2MxZga3"
   },
   "source": [
    "## Part 4 - Making the predictions and evaluating the model"
   ]
  },
  {
   "cell_type": "markdown",
   "metadata": {
    "id": "84QFoqGYeXHL"
   },
   "source": [
    "### Predicting the result of a single observation"
   ]
  },
  {
   "cell_type": "markdown",
   "metadata": {
    "id": "ZhU1LTgPg-kH"
   },
   "source": [
    "**Solution**"
   ]
  },
  {
   "cell_type": "code",
   "execution_count": 26,
   "metadata": {
    "colab": {
     "base_uri": "https://localhost:8080/",
     "height": 34
    },
    "id": "Mc5dn4Sgx25J",
    "outputId": "10afe4c3-622f-4bfb-ccd6-23b4167e3fd4"
   },
   "outputs": [
    {
     "name": "stdout",
     "output_type": "stream",
     "text": [
      "[[False]]\n"
     ]
    }
   ],
   "source": [
    "print(ann.predict(sc.transform([[1, 0, 0, 600, 0, 40, 3, 60000, 2, 1, 1, 50000]])) > 0.5)"
   ]
  },
  {
   "cell_type": "markdown",
   "metadata": {
    "id": "u7yx47jPZt11"
   },
   "source": [
    "### Predicting the Test set results"
   ]
  },
  {
   "cell_type": "code",
   "execution_count": 27,
   "metadata": {
    "colab": {
     "base_uri": "https://localhost:8080/",
     "height": 134
    },
    "id": "fSULMtDL1EQe",
    "outputId": "04b9084c-77d1-4927-95b2-a4c0815314f0"
   },
   "outputs": [
    {
     "name": "stdout",
     "output_type": "stream",
     "text": [
      "[[0 0]\n",
      " [0 1]\n",
      " [0 0]\n",
      " ...\n",
      " [0 0]\n",
      " [0 0]\n",
      " [0 0]]\n"
     ]
    }
   ],
   "source": [
    "y_pred = ann.predict(X_test)\n",
    "y_pred = y_pred>0.5\n",
    "print(np.concatenate((y_pred.reshape(len(y_pred), 1),y_test.reshape(len(y_test), 1)),1))"
   ]
  },
  {
   "cell_type": "markdown",
   "metadata": {
    "id": "o0oyfLWoaEGw"
   },
   "source": [
    "### Making the Confusion Matrix"
   ]
  },
  {
   "cell_type": "code",
   "execution_count": 30,
   "metadata": {
    "colab": {
     "base_uri": "https://localhost:8080/",
     "height": 67
    },
    "id": "eh7MX-BN1E2p",
    "outputId": "40b8356d-a79e-42ee-b3a9-48787821a677"
   },
   "outputs": [
    {
     "name": "stdout",
     "output_type": "stream",
     "text": [
      "[[1525   70]\n",
      " [ 208  197]]\n",
      "0.861\n"
     ]
    }
   ],
   "source": [
    "from sklearn.metrics import confusion_matrix, accuracy_score\n",
    "print(confusion_matrix(y_test, y_pred))\n",
    "print(accuracy_score(y_test, y_pred))"
   ]
  }
 ],
 "metadata": {
  "colab": {
   "collapsed_sections": [],
   "include_colab_link": true,
   "name": "Copy of artificial_neural_network.ipynb",
   "provenance": [],
   "toc_visible": true
  },
  "kernelspec": {
   "display_name": "Python 3 (ipykernel)",
   "language": "python",
   "name": "python3"
  },
  "language_info": {
   "codemirror_mode": {
    "name": "ipython",
    "version": 3
   },
   "file_extension": ".py",
   "mimetype": "text/x-python",
   "name": "python",
   "nbconvert_exporter": "python",
   "pygments_lexer": "ipython3",
   "version": "3.9.12"
  }
 },
 "nbformat": 4,
 "nbformat_minor": 1
}
