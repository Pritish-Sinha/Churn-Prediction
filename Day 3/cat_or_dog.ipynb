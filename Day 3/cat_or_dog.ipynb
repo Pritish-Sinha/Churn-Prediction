{
 "cells": [
  {
   "cell_type": "markdown",
   "metadata": {
    "colab_type": "text",
    "id": "3DR-eO17geWu"
   },
   "source": [
    "# Convolutional Neural Network"
   ]
  },
  {
   "cell_type": "markdown",
   "metadata": {
    "colab_type": "text",
    "id": "EMefrVPCg-60"
   },
   "source": [
    "### Importing the libraries"
   ]
  },
  {
   "cell_type": "code",
   "execution_count": 1,
   "metadata": {
    "colab": {},
    "colab_type": "code",
    "id": "sCV30xyVhFbE"
   },
   "outputs": [
    {
     "name": "stderr",
     "output_type": "stream",
     "text": [
      "2022-06-16 11:07:29.187683: I tensorflow/core/util/util.cc:169] oneDNN custom operations are on. You may see slightly different numerical results due to floating-point round-off errors from different computation orders. To turn them off, set the environment variable `TF_ENABLE_ONEDNN_OPTS=0`.\n",
      "2022-06-16 11:07:30.714856: W tensorflow/stream_executor/platform/default/dso_loader.cc:64] Could not load dynamic library 'libcudart.so.11.0'; dlerror: libcudart.so.11.0: cannot open shared object file: No such file or directory\n",
      "2022-06-16 11:07:30.714885: I tensorflow/stream_executor/cuda/cudart_stub.cc:29] Ignore above cudart dlerror if you do not have a GPU set up on your machine.\n"
     ]
    }
   ],
   "source": [
    "import tensorflow as tf\n",
    "from keras.preprocessing.image import ImageDataGenerator\n",
    "import matplotlib.pyplot as plt"
   ]
  },
  {
   "cell_type": "code",
   "execution_count": 2,
   "metadata": {
    "colab": {},
    "colab_type": "code",
    "id": "FIleuCAjoFD8"
   },
   "outputs": [
    {
     "data": {
      "text/plain": [
       "'2.9.1'"
      ]
     },
     "execution_count": 2,
     "metadata": {},
     "output_type": "execute_result"
    }
   ],
   "source": [
    "tf.__version__"
   ]
  },
  {
   "cell_type": "markdown",
   "metadata": {
    "colab_type": "text",
    "id": "oxQxCBWyoGPE"
   },
   "source": [
    "## Part 1 - Data Preprocessing"
   ]
  },
  {
   "cell_type": "markdown",
   "metadata": {
    "colab_type": "text",
    "id": "MvE-heJNo3GG"
   },
   "source": [
    "### Preprocessing the Training set"
   ]
  },
  {
   "cell_type": "code",
   "execution_count": 3,
   "metadata": {
    "colab": {},
    "colab_type": "code",
    "id": "0koUcJMJpEBD"
   },
   "outputs": [
    {
     "name": "stdout",
     "output_type": "stream",
     "text": [
      "Found 8000 images belonging to 2 classes.\n"
     ]
    }
   ],
   "source": [
    "train_datagen = ImageDataGenerator(rescale = 1./255,\n",
    "                                   shear_range = 0.2,\n",
    "                                   zoom_range = 0.2,\n",
    "                                   horizontal_flip = True)\n",
    "training_set = train_datagen.flow_from_directory('/home/pritish/Downloads/Intel/Day 3/dataset/training_set',\n",
    "                                                 target_size = (64, 64),\n",
    "                                                 batch_size = 32,\n",
    "                                                 class_mode = 'binary')"
   ]
  },
  {
   "cell_type": "markdown",
   "metadata": {
    "colab_type": "text",
    "id": "mrCMmGw9pHys"
   },
   "source": [
    "### Preprocessing the Test set"
   ]
  },
  {
   "cell_type": "code",
   "execution_count": 4,
   "metadata": {
    "colab": {},
    "colab_type": "code",
    "id": "SH4WzfOhpKc3"
   },
   "outputs": [
    {
     "name": "stdout",
     "output_type": "stream",
     "text": [
      "Found 2000 images belonging to 2 classes.\n"
     ]
    }
   ],
   "source": [
    "test_datagen = ImageDataGenerator(rescale = 1./255)\n",
    "test_set = test_datagen.flow_from_directory('/home/pritish/Downloads/Intel/Day 3/dataset/test_set',\n",
    "                                            target_size = (64, 64),\n",
    "                                            batch_size = 32,\n",
    "                                            class_mode = 'binary')"
   ]
  },
  {
   "cell_type": "markdown",
   "metadata": {
    "colab_type": "text",
    "id": "af8O4l90gk7B"
   },
   "source": [
    "## Part 2 - Building the CNN"
   ]
  },
  {
   "cell_type": "markdown",
   "metadata": {
    "colab_type": "text",
    "id": "ces1gXY2lmoX"
   },
   "source": [
    "### Initialising the CNN"
   ]
  },
  {
   "cell_type": "code",
   "execution_count": 5,
   "metadata": {
    "colab": {},
    "colab_type": "code",
    "id": "SAUt4UMPlhLS"
   },
   "outputs": [
    {
     "name": "stderr",
     "output_type": "stream",
     "text": [
      "2022-06-16 11:07:48.540674: W tensorflow/stream_executor/platform/default/dso_loader.cc:64] Could not load dynamic library 'libcuda.so.1'; dlerror: libcuda.so.1: cannot open shared object file: No such file or directory\n",
      "2022-06-16 11:07:48.540699: W tensorflow/stream_executor/cuda/cuda_driver.cc:269] failed call to cuInit: UNKNOWN ERROR (303)\n",
      "2022-06-16 11:07:48.540720: I tensorflow/stream_executor/cuda/cuda_diagnostics.cc:156] kernel driver does not appear to be running on this host (fedora): /proc/driver/nvidia/version does not exist\n",
      "2022-06-16 11:07:48.540883: I tensorflow/core/platform/cpu_feature_guard.cc:193] This TensorFlow binary is optimized with oneAPI Deep Neural Network Library (oneDNN) to use the following CPU instructions in performance-critical operations:  AVX2 AVX512F AVX512_VNNI FMA\n",
      "To enable them in other operations, rebuild TensorFlow with the appropriate compiler flags.\n"
     ]
    }
   ],
   "source": [
    "cnn = tf.keras.models.Sequential()"
   ]
  },
  {
   "cell_type": "markdown",
   "metadata": {
    "colab_type": "text",
    "id": "u5YJj_XMl5LF"
   },
   "source": [
    "### Step 1 - Convolution"
   ]
  },
  {
   "cell_type": "code",
   "execution_count": 6,
   "metadata": {
    "colab": {},
    "colab_type": "code",
    "id": "XPzPrMckl-hV"
   },
   "outputs": [],
   "source": [
    "cnn.add(tf.keras.layers.Conv2D(filters=32, kernel_size=3, activation='relu', input_shape=[64, 64, 3]))"
   ]
  },
  {
   "cell_type": "markdown",
   "metadata": {
    "colab_type": "text",
    "id": "tf87FpvxmNOJ"
   },
   "source": [
    "### Step 2 - Pooling"
   ]
  },
  {
   "cell_type": "code",
   "execution_count": 7,
   "metadata": {
    "colab": {},
    "colab_type": "code",
    "id": "ncpqPl69mOac"
   },
   "outputs": [],
   "source": [
    "cnn.add(tf.keras.layers.MaxPool2D(pool_size=6, strides=2))"
   ]
  },
  {
   "cell_type": "markdown",
   "metadata": {
    "colab_type": "text",
    "id": "xaTOgD8rm4mU"
   },
   "source": [
    "### Adding a second convolutional layer"
   ]
  },
  {
   "cell_type": "code",
   "execution_count": 8,
   "metadata": {
    "colab": {},
    "colab_type": "code",
    "id": "i_-FZjn_m8gk"
   },
   "outputs": [],
   "source": [
    "cnn.add(tf.keras.layers.Conv2D(filters=32, kernel_size=3, activation='relu'))\n",
    "cnn.add(tf.keras.layers.MaxPool2D(pool_size=4, strides=2))"
   ]
  },
  {
   "cell_type": "markdown",
   "metadata": {
    "colab_type": "text",
    "id": "tmiEuvTunKfk"
   },
   "source": [
    "### Step 3 - Flattening"
   ]
  },
  {
   "cell_type": "code",
   "execution_count": 9,
   "metadata": {
    "colab": {},
    "colab_type": "code",
    "id": "6AZeOGCvnNZn"
   },
   "outputs": [],
   "source": [
    "cnn.add(tf.keras.layers.Flatten())"
   ]
  },
  {
   "cell_type": "markdown",
   "metadata": {
    "colab_type": "text",
    "id": "dAoSECOm203v"
   },
   "source": [
    "### Step 4 - Full Connection"
   ]
  },
  {
   "cell_type": "code",
   "execution_count": 10,
   "metadata": {
    "colab": {},
    "colab_type": "code",
    "id": "8GtmUlLd26Nq"
   },
   "outputs": [],
   "source": [
    "cnn.add(tf.keras.layers.Dense(units=128, activation='relu'))"
   ]
  },
  {
   "cell_type": "markdown",
   "metadata": {
    "colab_type": "text",
    "id": "yTldFvbX28Na"
   },
   "source": [
    "### Step 5 - Output Layer"
   ]
  },
  {
   "cell_type": "code",
   "execution_count": 11,
   "metadata": {
    "colab": {},
    "colab_type": "code",
    "id": "1p_Zj1Mc3Ko_"
   },
   "outputs": [],
   "source": [
    "cnn.add(tf.keras.layers.Dense(units=1, activation='sigmoid'))"
   ]
  },
  {
   "cell_type": "markdown",
   "metadata": {
    "colab_type": "text",
    "id": "D6XkI90snSDl"
   },
   "source": [
    "## Part 3 - Training the CNN"
   ]
  },
  {
   "cell_type": "markdown",
   "metadata": {
    "colab_type": "text",
    "id": "vfrFQACEnc6i"
   },
   "source": [
    "### Compiling the CNN"
   ]
  },
  {
   "cell_type": "code",
   "execution_count": 12,
   "metadata": {
    "colab": {},
    "colab_type": "code",
    "id": "NALksrNQpUlJ"
   },
   "outputs": [],
   "source": [
    "cnn.compile(optimizer = 'adam', loss = 'binary_crossentropy', metrics = ['accuracy'])"
   ]
  },
  {
   "cell_type": "markdown",
   "metadata": {
    "colab_type": "text",
    "id": "ehS-v3MIpX2h"
   },
   "source": [
    "### Training the CNN on the Training set and evaluating it on the Test set"
   ]
  },
  {
   "cell_type": "code",
   "execution_count": 13,
   "metadata": {
    "colab": {},
    "colab_type": "code",
    "id": "XUj1W4PJptta"
   },
   "outputs": [
    {
     "name": "stdout",
     "output_type": "stream",
     "text": [
      "Epoch 1/100\n",
      "250/250 [==============================] - 110s 435ms/step - loss: 0.6875 - accuracy: 0.5577 - val_loss: 0.6504 - val_accuracy: 0.6195\n",
      "Epoch 2/100\n",
      "250/250 [==============================] - 22s 89ms/step - loss: 0.6170 - accuracy: 0.6587 - val_loss: 0.6083 - val_accuracy: 0.6635\n",
      "Epoch 3/100\n",
      "250/250 [==============================] - 27s 106ms/step - loss: 0.5726 - accuracy: 0.7041 - val_loss: 0.6481 - val_accuracy: 0.6475\n",
      "Epoch 4/100\n",
      "250/250 [==============================] - 26s 105ms/step - loss: 0.5366 - accuracy: 0.7256 - val_loss: 0.5105 - val_accuracy: 0.7555\n",
      "Epoch 5/100\n",
      "250/250 [==============================] - 26s 106ms/step - loss: 0.5067 - accuracy: 0.7554 - val_loss: 0.5572 - val_accuracy: 0.7150\n",
      "Epoch 6/100\n",
      "250/250 [==============================] - 26s 106ms/step - loss: 0.4909 - accuracy: 0.7645 - val_loss: 0.4829 - val_accuracy: 0.7675\n",
      "Epoch 7/100\n",
      "250/250 [==============================] - 26s 106ms/step - loss: 0.4740 - accuracy: 0.7754 - val_loss: 0.4820 - val_accuracy: 0.7725\n",
      "Epoch 8/100\n",
      "250/250 [==============================] - 27s 106ms/step - loss: 0.4695 - accuracy: 0.7720 - val_loss: 0.4904 - val_accuracy: 0.7630\n",
      "Epoch 9/100\n",
      "250/250 [==============================] - 27s 108ms/step - loss: 0.4455 - accuracy: 0.7944 - val_loss: 0.4871 - val_accuracy: 0.7810\n",
      "Epoch 10/100\n",
      "250/250 [==============================] - 27s 109ms/step - loss: 0.4337 - accuracy: 0.7981 - val_loss: 0.5900 - val_accuracy: 0.7180\n",
      "Epoch 11/100\n",
      "250/250 [==============================] - 27s 106ms/step - loss: 0.4219 - accuracy: 0.8099 - val_loss: 0.4852 - val_accuracy: 0.7790\n",
      "Epoch 12/100\n",
      "250/250 [==============================] - 27s 106ms/step - loss: 0.4231 - accuracy: 0.8023 - val_loss: 0.4506 - val_accuracy: 0.7910\n",
      "Epoch 13/100\n",
      "250/250 [==============================] - 26s 106ms/step - loss: 0.4076 - accuracy: 0.8149 - val_loss: 0.4545 - val_accuracy: 0.7950\n",
      "Epoch 14/100\n",
      "250/250 [==============================] - 27s 106ms/step - loss: 0.3910 - accuracy: 0.8200 - val_loss: 0.5072 - val_accuracy: 0.7715\n",
      "Epoch 15/100\n",
      "250/250 [==============================] - 27s 106ms/step - loss: 0.3880 - accuracy: 0.8276 - val_loss: 0.4599 - val_accuracy: 0.7940\n",
      "Epoch 16/100\n",
      "250/250 [==============================] - 27s 106ms/step - loss: 0.3781 - accuracy: 0.8286 - val_loss: 0.4423 - val_accuracy: 0.7975\n",
      "Epoch 17/100\n",
      "250/250 [==============================] - 27s 106ms/step - loss: 0.3632 - accuracy: 0.8351 - val_loss: 0.4500 - val_accuracy: 0.8000\n",
      "Epoch 18/100\n",
      "250/250 [==============================] - 27s 106ms/step - loss: 0.3599 - accuracy: 0.8374 - val_loss: 0.4862 - val_accuracy: 0.7960\n",
      "Epoch 19/100\n",
      "250/250 [==============================] - 26s 106ms/step - loss: 0.3484 - accuracy: 0.8422 - val_loss: 0.4757 - val_accuracy: 0.7865\n",
      "Epoch 20/100\n",
      "250/250 [==============================] - 27s 107ms/step - loss: 0.3433 - accuracy: 0.8435 - val_loss: 0.5193 - val_accuracy: 0.7815\n",
      "Epoch 21/100\n",
      "250/250 [==============================] - 27s 107ms/step - loss: 0.3349 - accuracy: 0.8491 - val_loss: 0.4645 - val_accuracy: 0.7975\n",
      "Epoch 22/100\n",
      "250/250 [==============================] - 26s 106ms/step - loss: 0.3167 - accuracy: 0.8596 - val_loss: 0.5193 - val_accuracy: 0.7805\n",
      "Epoch 23/100\n",
      "250/250 [==============================] - 27s 107ms/step - loss: 0.3169 - accuracy: 0.8643 - val_loss: 0.4464 - val_accuracy: 0.8110\n",
      "Epoch 24/100\n",
      "250/250 [==============================] - 27s 107ms/step - loss: 0.3103 - accuracy: 0.8649 - val_loss: 0.4355 - val_accuracy: 0.8230\n",
      "Epoch 25/100\n",
      "250/250 [==============================] - 27s 106ms/step - loss: 0.3045 - accuracy: 0.8683 - val_loss: 0.4915 - val_accuracy: 0.7975\n",
      "Epoch 26/100\n",
      "250/250 [==============================] - 27s 106ms/step - loss: 0.2890 - accuracy: 0.8745 - val_loss: 0.4369 - val_accuracy: 0.8145\n",
      "Epoch 27/100\n",
      "250/250 [==============================] - 27s 107ms/step - loss: 0.2804 - accuracy: 0.8756 - val_loss: 0.5894 - val_accuracy: 0.7585\n",
      "Epoch 28/100\n",
      "250/250 [==============================] - 27s 106ms/step - loss: 0.2794 - accuracy: 0.8779 - val_loss: 0.4737 - val_accuracy: 0.8115\n",
      "Epoch 29/100\n",
      "250/250 [==============================] - 27s 107ms/step - loss: 0.2752 - accuracy: 0.8827 - val_loss: 0.4618 - val_accuracy: 0.8105\n",
      "Epoch 30/100\n",
      "250/250 [==============================] - 27s 106ms/step - loss: 0.2575 - accuracy: 0.8876 - val_loss: 0.4940 - val_accuracy: 0.8075\n",
      "Epoch 31/100\n",
      "250/250 [==============================] - 27s 106ms/step - loss: 0.2470 - accuracy: 0.8971 - val_loss: 0.4608 - val_accuracy: 0.8100\n",
      "Epoch 32/100\n",
      "250/250 [==============================] - 27s 107ms/step - loss: 0.2530 - accuracy: 0.8942 - val_loss: 0.5710 - val_accuracy: 0.7800\n",
      "Epoch 33/100\n",
      "250/250 [==============================] - 27s 107ms/step - loss: 0.2426 - accuracy: 0.8980 - val_loss: 0.6133 - val_accuracy: 0.7760\n",
      "Epoch 34/100\n",
      "250/250 [==============================] - 27s 106ms/step - loss: 0.2346 - accuracy: 0.8995 - val_loss: 0.4949 - val_accuracy: 0.8165\n",
      "Epoch 35/100\n",
      "250/250 [==============================] - 27s 107ms/step - loss: 0.2336 - accuracy: 0.9039 - val_loss: 0.5516 - val_accuracy: 0.7895\n",
      "Epoch 36/100\n",
      "250/250 [==============================] - 27s 107ms/step - loss: 0.2176 - accuracy: 0.9111 - val_loss: 0.4924 - val_accuracy: 0.8090\n",
      "Epoch 37/100\n",
      "250/250 [==============================] - 27s 106ms/step - loss: 0.2114 - accuracy: 0.9085 - val_loss: 0.5156 - val_accuracy: 0.8120\n",
      "Epoch 38/100\n",
      "250/250 [==============================] - 27s 107ms/step - loss: 0.2130 - accuracy: 0.9131 - val_loss: 0.4896 - val_accuracy: 0.8195\n",
      "Epoch 39/100\n",
      "250/250 [==============================] - 27s 108ms/step - loss: 0.2000 - accuracy: 0.9170 - val_loss: 0.5754 - val_accuracy: 0.8100\n",
      "Epoch 40/100\n",
      "250/250 [==============================] - 27s 107ms/step - loss: 0.2072 - accuracy: 0.9131 - val_loss: 0.5213 - val_accuracy: 0.8075\n",
      "Epoch 41/100\n",
      "250/250 [==============================] - 27s 107ms/step - loss: 0.1897 - accuracy: 0.9211 - val_loss: 0.5410 - val_accuracy: 0.8165\n",
      "Epoch 42/100\n",
      "250/250 [==============================] - 27s 107ms/step - loss: 0.1916 - accuracy: 0.9171 - val_loss: 0.6210 - val_accuracy: 0.7900\n",
      "Epoch 43/100\n",
      "250/250 [==============================] - 27s 107ms/step - loss: 0.1936 - accuracy: 0.9233 - val_loss: 0.5441 - val_accuracy: 0.8075\n",
      "Epoch 44/100\n",
      "250/250 [==============================] - 27s 107ms/step - loss: 0.1765 - accuracy: 0.9281 - val_loss: 0.5551 - val_accuracy: 0.8130\n",
      "Epoch 45/100\n",
      "250/250 [==============================] - 27s 107ms/step - loss: 0.1782 - accuracy: 0.9275 - val_loss: 0.5622 - val_accuracy: 0.8060\n",
      "Epoch 46/100\n",
      "250/250 [==============================] - 27s 106ms/step - loss: 0.1836 - accuracy: 0.9254 - val_loss: 0.5861 - val_accuracy: 0.8100\n",
      "Epoch 47/100\n",
      "250/250 [==============================] - 27s 106ms/step - loss: 0.1674 - accuracy: 0.9290 - val_loss: 0.6067 - val_accuracy: 0.8040\n",
      "Epoch 48/100\n",
      "250/250 [==============================] - 27s 107ms/step - loss: 0.1608 - accuracy: 0.9323 - val_loss: 0.7163 - val_accuracy: 0.7875\n",
      "Epoch 49/100\n",
      "250/250 [==============================] - 28s 111ms/step - loss: 0.1729 - accuracy: 0.9315 - val_loss: 0.6144 - val_accuracy: 0.8090\n",
      "Epoch 50/100\n",
      "250/250 [==============================] - 28s 110ms/step - loss: 0.1508 - accuracy: 0.9429 - val_loss: 0.6483 - val_accuracy: 0.8140\n",
      "Epoch 51/100\n",
      "250/250 [==============================] - 27s 107ms/step - loss: 0.1505 - accuracy: 0.9413 - val_loss: 0.6043 - val_accuracy: 0.8100\n",
      "Epoch 52/100\n",
      "250/250 [==============================] - 29s 117ms/step - loss: 0.1503 - accuracy: 0.9390 - val_loss: 0.6595 - val_accuracy: 0.8005\n",
      "Epoch 53/100\n",
      "250/250 [==============================] - 28s 113ms/step - loss: 0.1495 - accuracy: 0.9392 - val_loss: 0.6341 - val_accuracy: 0.8165\n",
      "Epoch 54/100\n",
      "250/250 [==============================] - 28s 113ms/step - loss: 0.1407 - accuracy: 0.9441 - val_loss: 0.6523 - val_accuracy: 0.8030\n",
      "Epoch 55/100\n",
      "250/250 [==============================] - 28s 114ms/step - loss: 0.1395 - accuracy: 0.9444 - val_loss: 0.6522 - val_accuracy: 0.8185\n",
      "Epoch 56/100\n",
      "250/250 [==============================] - 29s 116ms/step - loss: 0.1420 - accuracy: 0.9450 - val_loss: 0.6743 - val_accuracy: 0.8180\n",
      "Epoch 57/100\n",
      "250/250 [==============================] - 28s 111ms/step - loss: 0.1261 - accuracy: 0.9505 - val_loss: 0.8035 - val_accuracy: 0.7910\n",
      "Epoch 58/100\n",
      "250/250 [==============================] - 28s 111ms/step - loss: 0.1408 - accuracy: 0.9433 - val_loss: 0.6735 - val_accuracy: 0.8130\n",
      "Epoch 59/100\n",
      "250/250 [==============================] - 29s 118ms/step - loss: 0.1444 - accuracy: 0.9400 - val_loss: 0.8718 - val_accuracy: 0.7640\n",
      "Epoch 60/100\n",
      "250/250 [==============================] - 29s 115ms/step - loss: 0.1291 - accuracy: 0.9488 - val_loss: 0.6986 - val_accuracy: 0.8065\n",
      "Epoch 61/100\n",
      "250/250 [==============================] - 28s 112ms/step - loss: 0.1214 - accuracy: 0.9544 - val_loss: 0.6860 - val_accuracy: 0.8045\n",
      "Epoch 62/100\n",
      "250/250 [==============================] - 27s 107ms/step - loss: 0.1167 - accuracy: 0.9535 - val_loss: 0.7441 - val_accuracy: 0.8000\n",
      "Epoch 63/100\n",
      "250/250 [==============================] - 27s 107ms/step - loss: 0.1130 - accuracy: 0.9560 - val_loss: 0.7681 - val_accuracy: 0.8120\n",
      "Epoch 64/100\n",
      "250/250 [==============================] - 27s 107ms/step - loss: 0.1263 - accuracy: 0.9501 - val_loss: 0.8598 - val_accuracy: 0.8000\n",
      "Epoch 65/100\n",
      "250/250 [==============================] - 30s 120ms/step - loss: 0.1262 - accuracy: 0.9516 - val_loss: 0.7505 - val_accuracy: 0.7995\n",
      "Epoch 66/100\n",
      "250/250 [==============================] - 28s 112ms/step - loss: 0.1071 - accuracy: 0.9585 - val_loss: 0.7569 - val_accuracy: 0.8120\n",
      "Epoch 67/100\n",
      "250/250 [==============================] - 27s 108ms/step - loss: 0.1090 - accuracy: 0.9557 - val_loss: 0.6843 - val_accuracy: 0.8145\n",
      "Epoch 68/100\n",
      "250/250 [==============================] - 26s 103ms/step - loss: 0.1018 - accuracy: 0.9600 - val_loss: 0.8441 - val_accuracy: 0.7975\n",
      "Epoch 69/100\n",
      "250/250 [==============================] - 25s 102ms/step - loss: 0.0977 - accuracy: 0.9626 - val_loss: 0.7403 - val_accuracy: 0.8255\n",
      "Epoch 70/100\n",
      "250/250 [==============================] - 28s 110ms/step - loss: 0.1038 - accuracy: 0.9588 - val_loss: 0.7448 - val_accuracy: 0.8195\n",
      "Epoch 71/100\n",
      "250/250 [==============================] - 28s 110ms/step - loss: 0.1077 - accuracy: 0.9594 - val_loss: 0.7608 - val_accuracy: 0.8140\n",
      "Epoch 72/100\n",
      "250/250 [==============================] - 28s 110ms/step - loss: 0.0933 - accuracy: 0.9657 - val_loss: 0.8005 - val_accuracy: 0.8040\n",
      "Epoch 73/100\n",
      "250/250 [==============================] - 27s 108ms/step - loss: 0.1123 - accuracy: 0.9565 - val_loss: 0.8219 - val_accuracy: 0.7975\n",
      "Epoch 74/100\n",
      "250/250 [==============================] - 27s 109ms/step - loss: 0.0960 - accuracy: 0.9626 - val_loss: 0.7788 - val_accuracy: 0.8120\n",
      "Epoch 75/100\n",
      "250/250 [==============================] - 27s 108ms/step - loss: 0.1049 - accuracy: 0.9594 - val_loss: 0.8853 - val_accuracy: 0.8050\n",
      "Epoch 76/100\n",
      "250/250 [==============================] - 27s 108ms/step - loss: 0.1000 - accuracy: 0.9621 - val_loss: 0.8391 - val_accuracy: 0.7940\n",
      "Epoch 77/100\n",
      "250/250 [==============================] - 27s 109ms/step - loss: 0.1047 - accuracy: 0.9592 - val_loss: 0.8134 - val_accuracy: 0.8085\n",
      "Epoch 78/100\n",
      "250/250 [==============================] - 27s 109ms/step - loss: 0.0826 - accuracy: 0.9679 - val_loss: 0.8245 - val_accuracy: 0.8055\n",
      "Epoch 79/100\n",
      "250/250 [==============================] - 28s 113ms/step - loss: 0.0926 - accuracy: 0.9639 - val_loss: 0.8043 - val_accuracy: 0.8135\n",
      "Epoch 80/100\n",
      "250/250 [==============================] - 26s 105ms/step - loss: 0.0786 - accuracy: 0.9731 - val_loss: 0.9203 - val_accuracy: 0.8065\n",
      "Epoch 81/100\n",
      "250/250 [==============================] - 26s 102ms/step - loss: 0.0952 - accuracy: 0.9643 - val_loss: 0.8798 - val_accuracy: 0.8075\n",
      "Epoch 82/100\n",
      "250/250 [==============================] - 25s 102ms/step - loss: 0.0837 - accuracy: 0.9661 - val_loss: 0.9390 - val_accuracy: 0.7920\n",
      "Epoch 83/100\n",
      "250/250 [==============================] - 26s 104ms/step - loss: 0.0881 - accuracy: 0.9668 - val_loss: 0.9102 - val_accuracy: 0.8010\n",
      "Epoch 84/100\n",
      "250/250 [==============================] - 27s 109ms/step - loss: 0.0967 - accuracy: 0.9614 - val_loss: 0.9713 - val_accuracy: 0.7980\n",
      "Epoch 85/100\n",
      "250/250 [==============================] - 26s 104ms/step - loss: 0.0785 - accuracy: 0.9690 - val_loss: 0.9508 - val_accuracy: 0.7980\n",
      "Epoch 86/100\n",
      "250/250 [==============================] - 28s 113ms/step - loss: 0.0780 - accuracy: 0.9706 - val_loss: 0.9092 - val_accuracy: 0.8075\n",
      "Epoch 87/100\n",
      "250/250 [==============================] - 28s 111ms/step - loss: 0.0814 - accuracy: 0.9703 - val_loss: 0.9783 - val_accuracy: 0.7860\n",
      "Epoch 88/100\n",
      "250/250 [==============================] - 30s 119ms/step - loss: 0.0803 - accuracy: 0.9676 - val_loss: 0.9931 - val_accuracy: 0.8025\n",
      "Epoch 89/100\n",
      "250/250 [==============================] - 29s 115ms/step - loss: 0.0798 - accuracy: 0.9689 - val_loss: 1.0072 - val_accuracy: 0.8025\n",
      "Epoch 90/100\n",
      "250/250 [==============================] - 29s 114ms/step - loss: 0.1053 - accuracy: 0.9604 - val_loss: 0.9412 - val_accuracy: 0.8195\n",
      "Epoch 91/100\n",
      "250/250 [==============================] - 29s 115ms/step - loss: 0.0746 - accuracy: 0.9725 - val_loss: 1.0617 - val_accuracy: 0.7850\n",
      "Epoch 92/100\n",
      "250/250 [==============================] - 30s 121ms/step - loss: 0.0766 - accuracy: 0.9724 - val_loss: 0.9583 - val_accuracy: 0.7995\n",
      "Epoch 93/100\n",
      "250/250 [==============================] - 28s 114ms/step - loss: 0.0619 - accuracy: 0.9771 - val_loss: 1.0493 - val_accuracy: 0.7975\n",
      "Epoch 94/100\n",
      "250/250 [==============================] - 25s 102ms/step - loss: 0.0738 - accuracy: 0.9740 - val_loss: 1.0601 - val_accuracy: 0.7920\n",
      "Epoch 95/100\n",
      "250/250 [==============================] - 26s 103ms/step - loss: 0.0838 - accuracy: 0.9680 - val_loss: 0.9409 - val_accuracy: 0.7895\n",
      "Epoch 96/100\n",
      "250/250 [==============================] - 26s 105ms/step - loss: 0.0757 - accuracy: 0.9712 - val_loss: 1.0368 - val_accuracy: 0.7950\n",
      "Epoch 97/100\n",
      "250/250 [==============================] - 26s 104ms/step - loss: 0.0670 - accuracy: 0.9731 - val_loss: 0.9588 - val_accuracy: 0.8075\n",
      "Epoch 98/100\n",
      "250/250 [==============================] - 27s 108ms/step - loss: 0.0739 - accuracy: 0.9735 - val_loss: 0.9727 - val_accuracy: 0.8015\n",
      "Epoch 99/100\n",
      "250/250 [==============================] - 28s 111ms/step - loss: 0.0719 - accuracy: 0.9737 - val_loss: 1.1049 - val_accuracy: 0.8070\n",
      "Epoch 100/100\n",
      "250/250 [==============================] - 28s 112ms/step - loss: 0.0852 - accuracy: 0.9696 - val_loss: 0.9319 - val_accuracy: 0.8095\n"
     ]
    },
    {
     "data": {
      "text/plain": [
       "<keras.callbacks.History at 0x7fe0dc2a3fd0>"
      ]
     },
     "execution_count": 13,
     "metadata": {},
     "output_type": "execute_result"
    }
   ],
   "source": [
    "cnn.fit(x = training_set, validation_data = test_set, epochs = 100)"
   ]
  },
  {
   "cell_type": "markdown",
   "metadata": {
    "colab_type": "text",
    "id": "U3PZasO0006Z"
   },
   "source": [
    "## Part 4 - Making a single prediction"
   ]
  },
  {
   "cell_type": "code",
   "execution_count": 14,
   "metadata": {
    "colab": {},
    "colab_type": "code",
    "id": "gsSiWEJY1BPB"
   },
   "outputs": [
    {
     "name": "stdout",
     "output_type": "stream",
     "text": [
      "1/1 [==============================] - 1s 625ms/step\n"
     ]
    }
   ],
   "source": [
    "import numpy as np\n",
    "from keras.preprocessing import image\n",
    "test_image = tf.keras.preprocessing.image.load_img('/home/pritish/Downloads/Intel/Day 3/dataset/test_set/cats/cat.4006.jpg', target_size = (64, 64))\n",
    "test_image = tf.keras.preprocessing.image.img_to_array(test_image)\n",
    "test_image = np.expand_dims(test_image, axis = 0)\n",
    "result = cnn.predict(test_image)\n",
    "training_set.class_indices\n",
    "if result[0][0] == 1:\n",
    "  prediction = 'dog'\n",
    "else:\n",
    "  prediction = 'cat'"
   ]
  },
  {
   "cell_type": "code",
   "execution_count": null,
   "metadata": {
    "colab": {},
    "colab_type": "code",
    "id": "ED9KB3I54c1i"
   },
   "outputs": [],
   "source": [
    "print(prediction)"
   ]
  },
  {
   "cell_type": "code",
   "execution_count": null,
   "metadata": {},
   "outputs": [],
   "source": [
    "cnn.summary()"
   ]
  },
  {
   "cell_type": "code",
   "execution_count": null,
   "metadata": {},
   "outputs": [],
   "source": []
  }
 ],
 "metadata": {
  "colab": {
   "collapsed_sections": [],
   "name": "convolutional_neural_network.ipynb",
   "provenance": [],
   "toc_visible": true
  },
  "kernelspec": {
   "display_name": "Python 3 (ipykernel)",
   "language": "python",
   "name": "python3"
  },
  "language_info": {
   "codemirror_mode": {
    "name": "ipython",
    "version": 3
   },
   "file_extension": ".py",
   "mimetype": "text/x-python",
   "name": "python",
   "nbconvert_exporter": "python",
   "pygments_lexer": "ipython3",
   "version": "3.9.12"
  }
 },
 "nbformat": 4,
 "nbformat_minor": 1
}
